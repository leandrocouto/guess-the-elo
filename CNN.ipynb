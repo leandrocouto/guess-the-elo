{
 "cells": [
  {
   "cell_type": "markdown",
   "id": "bb45f59d-9bc7-4f1d-a06f-7ba2b30294f7",
   "metadata": {},
   "source": [
    "## Guess the Elo\n",
    "\n",
    "Guess the Elo is a significant source of entertainment in online chess content. Content creators analyze entire chess games without knowledge of the players' ratings. They then attempt to guess the Elo based on various factors such as the players' ability to spot tricks, defend and attack effectively, and avoid blunders.\n",
    "\n",
    "In this project, I will take a slightly different approach by using a Convolutional Neural Network (CNN) to predict the Elo rating of chess players based on a single chess position. This will be achieved by utilizing the dataset collected in previous notebooks and training the CNN on them.\n",
    "\n",
    "The dataset provides information on moves and both players' Elo ratings. The players' ratings will serve as the target variable, and each state of the moves list will be considered an input feature.\n",
    "\n",
    "As the dataset is not yet in a suitable format for immediate use with a CNN, several preprocessing steps are required to adequately prepare the data.\n",
    "\n",
    "## Preprocessing\n",
    "\n",
    "As you will observe later, there will be a notable increase in the dataset previously collected. Initially, each row of the dataframe, representing a game, will be replicated N times, with N representing the number of moves in the game. Following that, each entry will be doubled again to represent each state of the game for a single player, each with their individual rating. The `chess` library will be employed to represent a chess state.\n",
    "\n",
    "Because of these adjustments, only a small fraction of the dataset will be used for illustrative purposes. Let's proceed by loading the dataset and sampling 1000 data points. Additionally, columns that are not useful for network training are going to be deleted."
   ]
  },
  {
   "cell_type": "code",
   "execution_count": 4,
   "id": "110f0b29-70af-4163-997b-cc70852d8d30",
   "metadata": {},
   "outputs": [
    {
     "data": {
      "text/html": [
       "<div>\n",
       "<style scoped>\n",
       "    .dataframe tbody tr th:only-of-type {\n",
       "        vertical-align: middle;\n",
       "    }\n",
       "\n",
       "    .dataframe tbody tr th {\n",
       "        vertical-align: top;\n",
       "    }\n",
       "\n",
       "    .dataframe thead th {\n",
       "        text-align: right;\n",
       "    }\n",
       "</style>\n",
       "<table border=\"1\" class=\"dataframe\">\n",
       "  <thead>\n",
       "    <tr style=\"text-align: right;\">\n",
       "      <th></th>\n",
       "      <th>white_elo</th>\n",
       "      <th>black_elo</th>\n",
       "      <th>moves</th>\n",
       "    </tr>\n",
       "  </thead>\n",
       "  <tbody>\n",
       "    <tr>\n",
       "      <th>608409</th>\n",
       "      <td>1200</td>\n",
       "      <td>1519</td>\n",
       "      <td>1. g4 b6 2. h4 Bb7 3. Bg2 Bxg2 4. e3 Bxh1 5. N...</td>\n",
       "    </tr>\n",
       "    <tr>\n",
       "      <th>629472</th>\n",
       "      <td>999</td>\n",
       "      <td>971</td>\n",
       "      <td>1. d4 { [%clk 0:09:59.6] } 1... d5 { [%clk 0:0...</td>\n",
       "    </tr>\n",
       "    <tr>\n",
       "      <th>853260</th>\n",
       "      <td>999</td>\n",
       "      <td>1601</td>\n",
       "      <td>1. b4 { [%clk 0:29:57.2] } 1... Nf6 { [%clk 0:...</td>\n",
       "    </tr>\n",
       "    <tr>\n",
       "      <th>737019</th>\n",
       "      <td>1486</td>\n",
       "      <td>1554</td>\n",
       "      <td>1. d4 { [%clk 0:10:00] } 1... b6 { [%clk 0:09:...</td>\n",
       "    </tr>\n",
       "    <tr>\n",
       "      <th>669226</th>\n",
       "      <td>1081</td>\n",
       "      <td>1275</td>\n",
       "      <td>1. e4 { [%clk 0:15:00] } 1... e6 { [%clk 0:15:...</td>\n",
       "    </tr>\n",
       "    <tr>\n",
       "      <th>...</th>\n",
       "      <td>...</td>\n",
       "      <td>...</td>\n",
       "      <td>...</td>\n",
       "    </tr>\n",
       "    <tr>\n",
       "      <th>465069</th>\n",
       "      <td>990</td>\n",
       "      <td>862</td>\n",
       "      <td>1. e4 { [%clk 0:03:02] } 1... g6 { [%clk 0:02:...</td>\n",
       "    </tr>\n",
       "    <tr>\n",
       "      <th>137207</th>\n",
       "      <td>697</td>\n",
       "      <td>697</td>\n",
       "      <td>1. e4 { [%clk 0:09:59.9] } 1... d5 { [%clk 0:0...</td>\n",
       "    </tr>\n",
       "    <tr>\n",
       "      <th>326121</th>\n",
       "      <td>441</td>\n",
       "      <td>829</td>\n",
       "      <td>1. e4 { [%clk 0:10:00] } 1... e5 { [%clk 0:10:...</td>\n",
       "    </tr>\n",
       "    <tr>\n",
       "      <th>223425</th>\n",
       "      <td>675</td>\n",
       "      <td>637</td>\n",
       "      <td>1. e4 { [%clk 0:10:00] } 1... e5 { [%clk 0:09:...</td>\n",
       "    </tr>\n",
       "    <tr>\n",
       "      <th>718110</th>\n",
       "      <td>907</td>\n",
       "      <td>796</td>\n",
       "      <td>1. e4 { [%clk 0:01:00] } 1... e5 { [%clk 0:01:...</td>\n",
       "    </tr>\n",
       "  </tbody>\n",
       "</table>\n",
       "<p>1000 rows × 3 columns</p>\n",
       "</div>"
      ],
      "text/plain": [
       "        white_elo  black_elo  \\\n",
       "608409       1200       1519   \n",
       "629472        999        971   \n",
       "853260        999       1601   \n",
       "737019       1486       1554   \n",
       "669226       1081       1275   \n",
       "...           ...        ...   \n",
       "465069        990        862   \n",
       "137207        697        697   \n",
       "326121        441        829   \n",
       "223425        675        637   \n",
       "718110        907        796   \n",
       "\n",
       "                                                    moves  \n",
       "608409  1. g4 b6 2. h4 Bb7 3. Bg2 Bxg2 4. e3 Bxh1 5. N...  \n",
       "629472  1. d4 { [%clk 0:09:59.6] } 1... d5 { [%clk 0:0...  \n",
       "853260  1. b4 { [%clk 0:29:57.2] } 1... Nf6 { [%clk 0:...  \n",
       "737019  1. d4 { [%clk 0:10:00] } 1... b6 { [%clk 0:09:...  \n",
       "669226  1. e4 { [%clk 0:15:00] } 1... e6 { [%clk 0:15:...  \n",
       "...                                                   ...  \n",
       "465069  1. e4 { [%clk 0:03:02] } 1... g6 { [%clk 0:02:...  \n",
       "137207  1. e4 { [%clk 0:09:59.9] } 1... d5 { [%clk 0:0...  \n",
       "326121  1. e4 { [%clk 0:10:00] } 1... e5 { [%clk 0:10:...  \n",
       "223425  1. e4 { [%clk 0:10:00] } 1... e5 { [%clk 0:09:...  \n",
       "718110  1. e4 { [%clk 0:01:00] } 1... e5 { [%clk 0:01:...  \n",
       "\n",
       "[1000 rows x 3 columns]"
      ]
     },
     "execution_count": 4,
     "metadata": {},
     "output_type": "execute_result"
    }
   ],
   "source": [
    "import pandas as pd\n",
    "import chess\n",
    "import re\n",
    "from typing import List\n",
    "import numpy as np\n",
    "from itertools import product\n",
    "import tensorflow as tf\n",
    "from tensorflow.keras.models import Sequential\n",
    "from tensorflow.keras.layers import Conv2D, MaxPooling2D, Flatten, Dense, Dropout\n",
    "from sklearn.model_selection import train_test_split\n",
    "from sklearn.metrics import mean_absolute_error\n",
    "import matplotlib.pyplot as plt\n",
    "from statistics import fmean\n",
    "#seed for reproducibility\n",
    "np.random.seed(123)\n",
    "\n",
    "chess_data = pd.read_csv('chess_data.csv', header=0, sep=';')\n",
    "chess_data.dropna(subset=['moves', 'white_country', 'black_country', 'ECO_URL'], inplace=True)\n",
    "chess_data = chess_data.sample(n=1000, random_state=123)\n",
    "chess_data = chess_data[['white_elo', 'black_elo', 'moves']]\n",
    "chess_data"
   ]
  },
  {
   "cell_type": "markdown",
   "id": "960ac0e9-63f9-436b-800b-61e240fb99a2",
   "metadata": {},
   "source": [
    "In order to replicate each move of the game as explained before, let's clean the string value in `moves` and then replicate each move to its respective row."
   ]
  },
  {
   "cell_type": "code",
   "execution_count": 5,
   "id": "b955e491-9360-4e0c-a2d4-c001655e6bbb",
   "metadata": {},
   "outputs": [
    {
     "data": {
      "text/html": [
       "<div>\n",
       "<style scoped>\n",
       "    .dataframe tbody tr th:only-of-type {\n",
       "        vertical-align: middle;\n",
       "    }\n",
       "\n",
       "    .dataframe tbody tr th {\n",
       "        vertical-align: top;\n",
       "    }\n",
       "\n",
       "    .dataframe thead th {\n",
       "        text-align: right;\n",
       "    }\n",
       "</style>\n",
       "<table border=\"1\" class=\"dataframe\">\n",
       "  <thead>\n",
       "    <tr style=\"text-align: right;\">\n",
       "      <th></th>\n",
       "      <th>elo</th>\n",
       "      <th>moves</th>\n",
       "    </tr>\n",
       "  </thead>\n",
       "  <tbody>\n",
       "    <tr>\n",
       "      <th>0</th>\n",
       "      <td>1200</td>\n",
       "      <td>r n b q k b n r p p p p p p p p . . . . . . . ...</td>\n",
       "    </tr>\n",
       "    <tr>\n",
       "      <th>1</th>\n",
       "      <td>1200</td>\n",
       "      <td>r n b q k b n r p p p p p p p p . . . . . . . ...</td>\n",
       "    </tr>\n",
       "    <tr>\n",
       "      <th>2</th>\n",
       "      <td>1200</td>\n",
       "      <td>r n b q k b n r p . p p p p p p . p . . . . . ...</td>\n",
       "    </tr>\n",
       "    <tr>\n",
       "      <th>3</th>\n",
       "      <td>1200</td>\n",
       "      <td>r n b q k b n r p . p p p p p p . p . . . . . ...</td>\n",
       "    </tr>\n",
       "    <tr>\n",
       "      <th>4</th>\n",
       "      <td>1200</td>\n",
       "      <td>r n . q k b n r p b p p p p p p . p . . . . . ...</td>\n",
       "    </tr>\n",
       "    <tr>\n",
       "      <th>...</th>\n",
       "      <td>...</td>\n",
       "      <td>...</td>\n",
       "    </tr>\n",
       "    <tr>\n",
       "      <th>121629</th>\n",
       "      <td>796</td>\n",
       "      <td>. . . . . . . . . . . . . . . K . . . . . . . ...</td>\n",
       "    </tr>\n",
       "    <tr>\n",
       "      <th>121630</th>\n",
       "      <td>796</td>\n",
       "      <td>. . . . . . . . . . . . . . . K . . . . . . . ...</td>\n",
       "    </tr>\n",
       "    <tr>\n",
       "      <th>121631</th>\n",
       "      <td>796</td>\n",
       "      <td>. . . . . . . . . . . . . . . K . . . . . . . ...</td>\n",
       "    </tr>\n",
       "    <tr>\n",
       "      <th>121632</th>\n",
       "      <td>796</td>\n",
       "      <td>. . . . . . . . . . . . . . . K . . . . . . . ...</td>\n",
       "    </tr>\n",
       "    <tr>\n",
       "      <th>121633</th>\n",
       "      <td>796</td>\n",
       "      <td>. . . . . . . . . . . . . . . K . . . . . . . ...</td>\n",
       "    </tr>\n",
       "  </tbody>\n",
       "</table>\n",
       "<p>121634 rows × 2 columns</p>\n",
       "</div>"
      ],
      "text/plain": [
       "         elo                                              moves\n",
       "0       1200  r n b q k b n r p p p p p p p p . . . . . . . ...\n",
       "1       1200  r n b q k b n r p p p p p p p p . . . . . . . ...\n",
       "2       1200  r n b q k b n r p . p p p p p p . p . . . . . ...\n",
       "3       1200  r n b q k b n r p . p p p p p p . p . . . . . ...\n",
       "4       1200  r n . q k b n r p b p p p p p p . p . . . . . ...\n",
       "...      ...                                                ...\n",
       "121629   796  . . . . . . . . . . . . . . . K . . . . . . . ...\n",
       "121630   796  . . . . . . . . . . . . . . . K . . . . . . . ...\n",
       "121631   796  . . . . . . . . . . . . . . . K . . . . . . . ...\n",
       "121632   796  . . . . . . . . . . . . . . . K . . . . . . . ...\n",
       "121633   796  . . . . . . . . . . . . . . . K . . . . . . . ...\n",
       "\n",
       "[121634 rows x 2 columns]"
      ]
     },
     "execution_count": 5,
     "metadata": {},
     "output_type": "execute_result"
    }
   ],
   "source": [
    "def clean_moves(moves: str) -> List[str]:\n",
    "    states = []\n",
    "    board = chess.Board()\n",
    "    states = [board.__str__().replace(\"\\n\", \" \")]\n",
    "    # Remove clock info\n",
    "    moves = re.sub(r' {[^}]*}', '', moves)\n",
    "    # Remove moves indexes\n",
    "    moves = [item for item in moves.split() if not item[0].isdigit()]\n",
    "    for move in moves:\n",
    "        try:\n",
    "            board.push_san(move)\n",
    "        except ValueError as e:\n",
    "            return []\n",
    "        states.append(board.__str__().replace(\"\\n\", \" \"))\n",
    "    return states\n",
    "\n",
    "chess_data['moves'] = chess_data['moves'].apply(clean_moves)\n",
    "# In case a move was set as invalid by the chess lib, remove the data\n",
    "chess_data = chess_data[chess_data['moves'].apply(lambda x: x != [])]\n",
    "chess_data = chess_data.explode('moves')\n",
    "chess_data = pd.concat([pd.DataFrame({'elo': chess_data['white_elo'], 'moves': chess_data['moves']}),\n",
    "                 pd.DataFrame({'elo': chess_data['black_elo'], 'moves': chess_data['moves']})],\n",
    "                ignore_index=True)\n",
    "chess_data"
   ]
  },
  {
   "cell_type": "markdown",
   "id": "61c6586f-d819-49cc-ba97-c17784e9bd66",
   "metadata": {},
   "source": [
    "Because a CNN is being used, let's split the game state into different channels, one for each chess piece. This allows the network to focus on learning features specific to each piece, instead of trying to learn patterns from all the pieces at once. Therefore, for each game state we collected in previous steps, it will generate six 8x8 matrices, one for each chess piece: Pawns (p/P), Bishops (b/P), Knights (n/N), Rooks (r/R), Queens (q/Q), and Kings (k/K). A piece is represented as `+1` if white (uppercase letters), `-1` if black pieces (lowercase letters), and `0` if this specific piece is not present in that square. Finally, these channels will be transformed into NumPy arrays for them to be fed as input to the network."
   ]
  },
  {
   "cell_type": "code",
   "execution_count": 6,
   "id": "ac174350-f14f-4694-99ee-5c626acc2822",
   "metadata": {},
   "outputs": [
    {
     "data": {
      "text/html": [
       "<div>\n",
       "<style scoped>\n",
       "    .dataframe tbody tr th:only-of-type {\n",
       "        vertical-align: middle;\n",
       "    }\n",
       "\n",
       "    .dataframe tbody tr th {\n",
       "        vertical-align: top;\n",
       "    }\n",
       "\n",
       "    .dataframe thead th {\n",
       "        text-align: right;\n",
       "    }\n",
       "</style>\n",
       "<table border=\"1\" class=\"dataframe\">\n",
       "  <thead>\n",
       "    <tr style=\"text-align: right;\">\n",
       "      <th></th>\n",
       "      <th>elo</th>\n",
       "      <th>moves</th>\n",
       "    </tr>\n",
       "  </thead>\n",
       "  <tbody>\n",
       "    <tr>\n",
       "      <th>0</th>\n",
       "      <td>1200</td>\n",
       "      <td>[[[0, 0, 0, 0, 0, 0, 0, 0], [-1, -1, -1, -1, -...</td>\n",
       "    </tr>\n",
       "    <tr>\n",
       "      <th>1</th>\n",
       "      <td>1200</td>\n",
       "      <td>[[[0, 0, 0, 0, 0, 0, 0, 0], [-1, -1, -1, -1, -...</td>\n",
       "    </tr>\n",
       "    <tr>\n",
       "      <th>2</th>\n",
       "      <td>1200</td>\n",
       "      <td>[[[0, 0, 0, 0, 0, 0, 0, 0], [-1, 0, -1, -1, -1...</td>\n",
       "    </tr>\n",
       "    <tr>\n",
       "      <th>3</th>\n",
       "      <td>1200</td>\n",
       "      <td>[[[0, 0, 0, 0, 0, 0, 0, 0], [-1, 0, -1, -1, -1...</td>\n",
       "    </tr>\n",
       "    <tr>\n",
       "      <th>4</th>\n",
       "      <td>1200</td>\n",
       "      <td>[[[0, 0, 0, 0, 0, 0, 0, 0], [-1, 0, -1, -1, -1...</td>\n",
       "    </tr>\n",
       "    <tr>\n",
       "      <th>...</th>\n",
       "      <td>...</td>\n",
       "      <td>...</td>\n",
       "    </tr>\n",
       "    <tr>\n",
       "      <th>121629</th>\n",
       "      <td>796</td>\n",
       "      <td>[[[0, 0, 0, 0, 0, 0, 0, 0], [0, 0, 0, 0, 0, 0,...</td>\n",
       "    </tr>\n",
       "    <tr>\n",
       "      <th>121630</th>\n",
       "      <td>796</td>\n",
       "      <td>[[[0, 0, 0, 0, 0, 0, 0, 0], [0, 0, 0, 0, 0, 0,...</td>\n",
       "    </tr>\n",
       "    <tr>\n",
       "      <th>121631</th>\n",
       "      <td>796</td>\n",
       "      <td>[[[0, 0, 0, 0, 0, 0, 0, 0], [0, 0, 0, 0, 0, 0,...</td>\n",
       "    </tr>\n",
       "    <tr>\n",
       "      <th>121632</th>\n",
       "      <td>796</td>\n",
       "      <td>[[[0, 0, 0, 0, 0, 0, 0, 0], [0, 0, 0, 0, 0, 0,...</td>\n",
       "    </tr>\n",
       "    <tr>\n",
       "      <th>121633</th>\n",
       "      <td>796</td>\n",
       "      <td>[[[0, 0, 0, 0, 0, 0, 0, 0], [0, 0, 0, 0, 0, 0,...</td>\n",
       "    </tr>\n",
       "  </tbody>\n",
       "</table>\n",
       "<p>121634 rows × 2 columns</p>\n",
       "</div>"
      ],
      "text/plain": [
       "         elo                                              moves\n",
       "0       1200  [[[0, 0, 0, 0, 0, 0, 0, 0], [-1, -1, -1, -1, -...\n",
       "1       1200  [[[0, 0, 0, 0, 0, 0, 0, 0], [-1, -1, -1, -1, -...\n",
       "2       1200  [[[0, 0, 0, 0, 0, 0, 0, 0], [-1, 0, -1, -1, -1...\n",
       "3       1200  [[[0, 0, 0, 0, 0, 0, 0, 0], [-1, 0, -1, -1, -1...\n",
       "4       1200  [[[0, 0, 0, 0, 0, 0, 0, 0], [-1, 0, -1, -1, -1...\n",
       "...      ...                                                ...\n",
       "121629   796  [[[0, 0, 0, 0, 0, 0, 0, 0], [0, 0, 0, 0, 0, 0,...\n",
       "121630   796  [[[0, 0, 0, 0, 0, 0, 0, 0], [0, 0, 0, 0, 0, 0,...\n",
       "121631   796  [[[0, 0, 0, 0, 0, 0, 0, 0], [0, 0, 0, 0, 0, 0,...\n",
       "121632   796  [[[0, 0, 0, 0, 0, 0, 0, 0], [0, 0, 0, 0, 0, 0,...\n",
       "121633   796  [[[0, 0, 0, 0, 0, 0, 0, 0], [0, 0, 0, 0, 0, 0,...\n",
       "\n",
       "[121634 rows x 2 columns]"
      ]
     },
     "execution_count": 6,
     "metadata": {},
     "output_type": "execute_result"
    }
   ],
   "source": [
    "def extract_channels(board_list: List[str]) -> List[List[int]]:\n",
    "    pieces = [['p', 'P'], ['b', 'B'], ['n', 'N'], ['r', 'R'], ['q', 'Q'], ['k', 'K']]\n",
    "    channels = []\n",
    "    for piece in pieces:\n",
    "        channel = []\n",
    "        for elem in board_list:\n",
    "            if elem == ' ':\n",
    "                continue\n",
    "            if elem == piece[0]:\n",
    "                channel.append(-1)\n",
    "            elif elem == piece[1]:\n",
    "                channel.append(1)\n",
    "            else:\n",
    "                channel.append(0)\n",
    "        channels.append(channel)\n",
    "    return channels\n",
    "\n",
    "chess_data['moves'] = chess_data['moves'].apply(extract_channels)\n",
    "chess_data['moves'] = chess_data['moves'].apply(lambda x: np.array(x).reshape(6, 8, 8))\n",
    "chess_data"
   ]
  },
  {
   "cell_type": "markdown",
   "id": "c6d7192b-e0cb-41a4-959c-02efca20fc00",
   "metadata": {},
   "source": [
    "# Model\n",
    "\n",
    "Because fine-tuning the hyperparameters of a model for large datasets is computationally expensive, I will use the previously collected sample. I will split this sample dataset into training, validation, and test sets using an 80-10-10 split. To achieve this, sklearn's `train_test_split` will be used. Additionally, I will apply stratified sampling to ensure that all sets exhibit similar distributions with respect to the target data values. Notice that I'm using stratified sampling only when splitting the validation and test sets. This is necessary because train_test_split throws an exception when the least populated label lacks at least two instances for proper splitting, a scenario present in this small sample dataset. In the original dataset, stratified sampling ideally should be used in both steps."
   ]
  },
  {
   "cell_type": "code",
   "execution_count": 4,
   "id": "1f662280-db17-4fdf-9313-2b4f4c46065b",
   "metadata": {},
   "outputs": [],
   "source": [
    "X = np.stack(chess_data['moves'])\n",
    "y = np.stack(chess_data['elo'])\n",
    "X_train, X_validation_test, y_train, y_validation_test = train_test_split(X, y, test_size=0.2, stratify=y)\n",
    "X_validation, X_test, y_validation, y_test = train_test_split(X_validation_test, y_validation_test, test_size=0.5)"
   ]
  },
  {
   "cell_type": "markdown",
   "id": "c2739952-e900-4829-904f-2e6c2dafd61d",
   "metadata": {},
   "source": [
    "Our base CNN model is really simple, consisting of two convolutional layers and, at the end, a linear activation function, as we're dealing with a regression problem. To obtain the best estimates for a metric based on the validation set, I will create several versions of our base model with different configurations, including dropout and max-pooling, and varying the number of epochs. Whichever version of this model provides the best estimates for the metric based on the validation set will be used for the original dataset."
   ]
  },
  {
   "cell_type": "code",
   "execution_count": 5,
   "id": "b9a7ed66-4cd0-4781-8291-2151f6833a55",
   "metadata": {
    "scrolled": true
   },
   "outputs": [
    {
     "name": "stdout",
     "output_type": "stream",
     "text": [
      "Evaluating model... Epoch: 10 Pooling: True Dropout: True\n",
      "Loss: 89545.4140625 MAE: 236.7811737060547 \n",
      "\n",
      "Evaluating model... Epoch: 10 Pooling: True Dropout: False\n",
      "Loss: 88100.234375 MAE: 234.0190887451172 \n",
      "\n",
      "Evaluating model... Epoch: 10 Pooling: False Dropout: True\n",
      "Loss: 83924.9375 MAE: 228.55728149414062 \n",
      "\n",
      "Evaluating model... Epoch: 10 Pooling: False Dropout: False\n",
      "Loss: 82618.8359375 MAE: 225.5817413330078 \n",
      "\n",
      "Evaluating model... Epoch: 25 Pooling: True Dropout: True\n",
      "Loss: 75787.3359375 MAE: 216.0697784423828 \n",
      "\n",
      "Evaluating model... Epoch: 25 Pooling: True Dropout: False\n",
      "Loss: 74293.2109375 MAE: 213.22439575195312 \n",
      "\n",
      "Evaluating model... Epoch: 25 Pooling: False Dropout: True\n",
      "Loss: 59135.63671875 MAE: 186.68739318847656 \n",
      "\n",
      "Evaluating model... Epoch: 25 Pooling: False Dropout: False\n",
      "Loss: 57015.109375 MAE: 181.22500610351562 \n",
      "\n",
      "Evaluating model... Epoch: 50 Pooling: True Dropout: True\n",
      "Loss: 60498.1171875 MAE: 188.32823181152344 \n",
      "\n",
      "Evaluating model... Epoch: 50 Pooling: True Dropout: False\n",
      "Loss: 59616.16015625 MAE: 186.86778259277344 \n",
      "\n",
      "Evaluating model... Epoch: 50 Pooling: False Dropout: True\n",
      "Loss: 49600.78515625 MAE: 167.15911865234375 \n",
      "\n",
      "Evaluating model... Epoch: 50 Pooling: False Dropout: False\n",
      "Loss: 46556.734375 MAE: 160.17198181152344 \n",
      "\n"
     ]
    }
   ],
   "source": [
    "def create_model(_, use_pooling, use_dropout):\n",
    "    model = Sequential()\n",
    "    model.add(Conv2D(32, (3, 3), activation='relu', input_shape=(6, 8, 8)))\n",
    "    if use_pooling:\n",
    "        model.add(MaxPooling2D(pool_size=(2, 2)))\n",
    "    model.add(Conv2D(64, (2, 2), activation='relu'))\n",
    "    model.add(Flatten())\n",
    "    model.add(Dense(64, activation='relu'))\n",
    "    if use_dropout:\n",
    "        model.add(Dropout(0.1))\n",
    "    model.add(Dense(1, activation='linear'))\n",
    "    return model\n",
    "\n",
    "epochs = [10, 25, 50]\n",
    "use_dropout = [True, False]\n",
    "use_pooling = [True, False]\n",
    "\n",
    "all_combinations = list(product(epochs, use_pooling, use_dropout))\n",
    "all_results = []\n",
    "best_mae = 0\n",
    "best_model = None\n",
    "\n",
    "for combination in all_combinations:\n",
    "    print('Evaluating model... Epoch:', combination[0], 'Pooling:', combination[1], 'Dropout:', combination[2])\n",
    "    model = create_model(*combination)\n",
    "    model.compile(optimizer='adam', loss=tf.keras.losses.MeanSquaredError(), metrics=['mae'])\n",
    "    model.fit(X_train, y_train, epochs=combination[0], verbose=0)\n",
    "    loss, mae = model.evaluate(X_validation, y_validation, verbose=0)\n",
    "    all_results.append([combination, loss, mae])\n",
    "    print('Loss:', loss, 'MAE:', mae, '\\n')\n",
    "    if best_model is None:\n",
    "        best_model = model\n",
    "        best_mae = mae\n",
    "    elif mae >= best_mae:\n",
    "        best_model = model\n",
    "        best_mae = mae\n"
   ]
  },
  {
   "cell_type": "markdown",
   "id": "5d078cb1-bc5c-44ed-b0ff-d8cfcda7a179",
   "metadata": {},
   "source": [
    "A few expected results: as the number of epochs increases, the network is able to extract more patterns and information from the training data. Networks with a pooling layer consistently underperform when compared to their counterparts in this problem. This is because our input is already small enough (six channels of size 8x8); therefore, the information loss is noticeable. Regarding the dropout layer, there doesn't seem to be much impact when analyzing our metric (Mean Absolute Error).\r\n",
    "\r\n",
    "Since we trained using only a small portion of the original dataset, we will include a dropout layer in our real training, as it is likely to be helpful due to the dataset's size."
   ]
  },
  {
   "cell_type": "markdown",
   "id": "0b5977b1-458d-4fef-b75f-f6eb83438939",
   "metadata": {},
   "source": [
    "# Trained model"
   ]
  },
  {
   "cell_type": "markdown",
   "id": "1980c0d6-e638-4430-9562-da59f0dd0ed2",
   "metadata": {},
   "source": [
    "Because the training of the network with our huge dataset (after all the preprocessing described in the `data_collection` notebook and the ones described here, which increase its size tremendously) would take a long time, especially running 50 epochs as we previously determined, the training was not done on this notebook.\n",
    "\n",
    "Let's import the weights of the trained network:"
   ]
  },
  {
   "cell_type": "code",
   "execution_count": 5,
   "id": "33cdcf11-8fb1-4f40-8796-a3e9fcb026d4",
   "metadata": {},
   "outputs": [],
   "source": [
    "trained_model = tf.keras.models.load_model('trained_weights.keras')\n",
    "trained_model.compile(optimizer='adam', loss=tf.keras.losses.MeanSquaredError(), metrics=['mae'])"
   ]
  },
  {
   "cell_type": "markdown",
   "id": "f1d321ab-fb05-48e8-9a02-5768f308f0d3",
   "metadata": {},
   "source": [
    "Let's assess how this model performs using the test dataset, which will be imported locally. Due to the its size, this test dataset will not be provided. However, the original dataset is available, and you, as the user, are welcome to apply all the preprocessing steps described earlier. The same dataset should be generated in the same way as mine.\n",
    "\n",
    "The test dataset will be read in batches to avoid exhausting my machine's memory. Additionally, the predictions made by the network are going to be stored to manually calculate the metric (Mean Absolute Error), this is done to thoroughly analyze the model's performance.\n",
    "\n",
    "It's important to notice that I am only now applying the preprocessing methods `extract_channels` and reshaping and casting the data into NumPy arrays. This was done to avoid storing a large file on my hard disk, as the two methods discussed earlier significantly increase disk memory usage. The same approach was taken during training."
   ]
  },
  {
   "cell_type": "code",
   "execution_count": 6,
   "id": "de65b868-df2f-4fac-a97a-8c07759dcbbc",
   "metadata": {},
   "outputs": [
    {
     "name": "stdout",
     "output_type": "stream",
     "text": [
      "46875/46875 [==============================] - 38s 779us/step\n",
      "46875/46875 [==============================] - 64s 1ms/step\n",
      "46875/46875 [==============================] - 72s 2ms/step\n",
      "46875/46875 [==============================] - 77s 2ms/step\n",
      "46875/46875 [==============================] - 78s 2ms/step\n",
      "46875/46875 [==============================] - 77s 2ms/step\n",
      "46875/46875 [==============================] - 102s 2ms/step\n",
      "46875/46875 [==============================] - 118s 3ms/step\n",
      "46875/46875 [==============================] - 122s 3ms/step\n",
      "46875/46875 [==============================] - 128s 3ms/step\n",
      "46875/46875 [==============================] - 121s 3ms/step\n",
      "46875/46875 [==============================] - 134s 3ms/step\n",
      "46875/46875 [==============================] - 121s 3ms/step\n",
      "46875/46875 [==============================] - 111s 2ms/step\n",
      "46875/46875 [==============================] - 114s 2ms/step\n",
      "9979/9979 [==============================] - 18s 2ms/step\n"
     ]
    }
   ],
   "source": [
    "chunk_size = 1500000\n",
    "preds_labels = []\n",
    "for chess_data in pd.read_csv('test_data.csv', chunksize=chunk_size, sep=';'):\n",
    "        chess_data['moves'] = chess_data['moves'].apply(extract_channels)\n",
    "        chess_data['moves'] = chess_data['moves'].apply(lambda x: np.array(x).reshape(6, 8, 8))\n",
    "\n",
    "        X = np.stack(chess_data['moves'])\n",
    "        y = np.stack(chess_data['elo'])\n",
    "\n",
    "        pred = trained_model.predict(X, verbose=1)\n",
    "        preds_labels.append((pred, y,))"
   ]
  },
  {
   "cell_type": "markdown",
   "id": "83efccb8-ec60-44bd-8f24-ac3521f3fbfb",
   "metadata": {},
   "source": [
    "Let's calculate the overall performance of the model. Again, the metric used was MAE, which is generally used for regression problems that measures the average absolute difference between the label and the predicted values."
   ]
  },
  {
   "cell_type": "code",
   "execution_count": 7,
   "id": "ce7cc2c2-e183-4309-ba74-a523b9b66aaf",
   "metadata": {},
   "outputs": [
    {
     "data": {
      "text/plain": [
       "279.67062593553965"
      ]
     },
     "execution_count": 7,
     "metadata": {},
     "output_type": "execute_result"
    }
   ],
   "source": [
    "predictions = []\n",
    "labels = []\n",
    "for pred_lable in preds_labels:\n",
    "    predictions.append(pred_lable[0])\n",
    "    labels.append(pred_lable[1])\n",
    "predictions = np.concatenate(predictions, axis=0)\n",
    "labels = np.concatenate(labels, axis=0)\n",
    "\n",
    "mean_absolute_error(predictions, labels)"
   ]
  },
  {
   "cell_type": "markdown",
   "id": "dd8ecb63-db07-4bf3-93e1-908fa270e259",
   "metadata": {},
   "source": [
    "Let's now analyze the network's performance to specific elo ranges."
   ]
  },
  {
   "cell_type": "code",
   "execution_count": 64,
   "id": "27fd170a-c468-46b8-b47e-e0eeb23d9584",
   "metadata": {},
   "outputs": [
    {
     "data": {
      "image/png": "[encoded data removed]",
      "text/plain": [
       "<Figure size 1400x600 with 1 Axes>"
      ]
     },
     "metadata": {},
     "output_type": "display_data"
    }
   ],
   "source": [
    "predictions_by_elo = {}\n",
    "labels_by_elo = {}\n",
    "for i in range(0, 3500, 100):\n",
    "    predictions_by_elo[i] = []\n",
    "    labels_by_elo[i] = []\n",
    "\n",
    "for i in range(len(labels)):\n",
    "    for j in range(0, 3500, 100):\n",
    "        if j <= labels[i] < j+100:\n",
    "            predictions_by_elo[j].append(predictions[i])\n",
    "            labels_by_elo[j].append(labels[i])\n",
    "\n",
    "y_predictions = []\n",
    "y_label_average = []\n",
    "for i in range(0, 3500, 100):\n",
    "    if len(predictions_by_elo[i]) == 0 or len(labels_by_elo[i]) == 0:\n",
    "        y_predictions.append(0)\n",
    "        y_label_average.append(0)\n",
    "    else:\n",
    "        y_predictions.append(mean_absolute_error(predictions_by_elo[i], labels_by_elo[i]))\n",
    "        y_label_average.append(fmean(labels_by_elo[i]))\n",
    "\n",
    "\n",
    "x_labels = [str(i) + '-' + str(i+100) for i in range(0, 3500, 100)]\n",
    "\n",
    "plt.figure(figsize=(14, 6))\n",
    "x_ticks = range(len(x_labels))\n",
    "  \n",
    "plt.bar(np.arange(len(x_labels)) - 0.2, y_predictions, 0.4, label = \"Network's MAE\", color='red') \n",
    "plt.bar(np.arange(len(x_labels)) + 0.2, y_label_average, 0.4, label = 'Target Elo', color='green') \n",
    "  \n",
    "plt.xticks(x_ticks, x_labels, rotation=60, rotation_mode='anchor', horizontalalignment='right')\n",
    "plt.xlabel(\"Elo range\") \n",
    "plt.ylabel(\"Elo\") \n",
    "plt.title(\"Model's Performance: Target Elo vs. Network's Error Metric\") \n",
    "plt.legend() \n",
    "plt.show() "
   ]
  },
  {
   "cell_type": "markdown",
   "id": "249b3a70-3355-4e0b-af08-2a2f54ea2b8e",
   "metadata": {},
   "source": [
    "# Discussions and Final Considerations"
   ]
  },
  {
   "cell_type": "markdown",
   "id": "ab257a8e-f88a-4c1d-a4ba-c490bb6651b3",
   "metadata": {},
   "source": [
    "The network's metric (MAE) is `279.7`, indicating that, on average, this model predicted the Elo when observing an unseen chess state within a ± 279.7 error margin. Considering the constraints imposed by the data itself, such as the bias when fetching games from player only in alphanumeric order and the unbalanced dataset in terms of players' Elo, this final result is rather acceptable, given the simplicity of the network's structure.\n",
    "\n",
    "When analyzing the graph above, we observe a lower degree of error in predictions when the Elo ratings fall within the range of 500 to 1500. This occurs because, as we have seen previously, the majority of the dataset comprises Elo ratings within that range. Consequently, the model tends to learn more features, possibly leading to overfitting, which, in turn, influences the error rate. Additionally, note the significant MAE value for higher Elo ratings (3000 and above). This is a consequence of the limited data available in that rating range, contributing to a higher error rate."
   ]
  },
  {
   "cell_type": "markdown",
   "id": "e59b34cf-c9c4-4b24-9352-bda61f7943a8",
   "metadata": {},
   "source": [
    "## What could have been done better?\n",
    "\n"
   ]
  },
  {
   "cell_type": "markdown",
   "id": "0d7e90db-83ab-49e6-b44a-2bcd7b7dc639",
   "metadata": {},
   "source": [
    "* The primary issue lies in the dataset, despite having a sufficient number of games, especially after preprocessing that increased its size. The dataset, however, remained highly unbalanced, and to the best of my knowledge, circumventing this imbalance was impossible when using chess.com's public API at the time of this writing.\n",
    "* It's possible that employing a more complex network or adjusting hyperparameters differently could have produced better results for the network. Nevertheless, due to the dataset's size, which consequently increases the learning time, I lack the resources to further explore these alternatives on my machine.\n",
    "* Normalizing the Elo rating to a value between 0 and 1, for instance, could have helped the network to converge faster during the learning stage."
   ]
  },
  {
   "cell_type": "markdown",
   "id": "f8cc00bd-c96b-4860-8b21-8955bcee3d0c",
   "metadata": {},
   "source": [
    "## A more robust future project"
   ]
  },
  {
   "cell_type": "markdown",
   "id": "678c76e2-6f22-40c3-b949-2e6022c54d96",
   "metadata": {},
   "source": [
    "Content creators, when playing Guess the Elo, typically analyze the entire game rather than focusing solely on a single state to make an informed guess about the player's Elo rating. While this wasn't the initial objective of our project, it would be interesting to consider feeding the entire game to a neural network instead of just one state.\n",
    "\n",
    "Several important changes would need to be implemented compared to the current approach. This includes incorporating a larger number of games and ensuring a more balanced dataset, preferably sourced from a diverse pool of players to reduce bias. More significantly, since chess is inherently a sequential game where every move, whether it's the first or the last, can provide crucial information about the player's rating, it is plausible that using a recurrent neural network, such as LSTM (Long Short-Term Memory), could yield promising results."
   ]
  }
 ],
 "metadata": {
  "kernelspec": {
   "display_name": "Python 3 (ipykernel)",
   "language": "python",
   "name": "python3"
  },
  "language_info": {
   "codemirror_mode": {
    "name": "ipython",
    "version": 3
   },
   "file_extension": ".py",
   "mimetype": "text/x-python",
   "name": "python",
   "nbconvert_exporter": "python",
   "pygments_lexer": "ipython3",
   "version": "3.8.0"
  }
 },
 "nbformat": 4,
 "nbformat_minor": 5
}
